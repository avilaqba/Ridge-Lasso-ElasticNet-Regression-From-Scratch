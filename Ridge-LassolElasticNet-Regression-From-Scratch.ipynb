{
 "cells": [
  {
   "cell_type": "markdown",
   "id": "3c935cc5",
   "metadata": {},
   "source": [
    "### Ridge, Lasso, and ElasticNet Regression From Scratch"
   ]
  },
  {
   "cell_type": "code",
   "execution_count": 1,
   "id": "8d42eda5",
   "metadata": {},
   "outputs": [],
   "source": [
    "import pandas as pd\n",
    "import numpy as np\n",
    "import matplotlib.pyplot as plt\n",
    "import random\n",
    "from sklearn.datasets import make_regression\n",
    "from sklearn.datasets import fetch_california_housing\n",
    "from datetime import datetime\n",
    "np.random.seed(42)\n",
    "random.seed(42)"
   ]
  },
  {
   "cell_type": "code",
   "execution_count": 2,
   "id": "ec487b48",
   "metadata": {},
   "outputs": [],
   "source": [
    "def TrainTestSplit(data, target, test_size):\n",
    "    \n",
    "    n = len(data)\n",
    "    k = int(test_size*n)\n",
    "    idx = list(np.arange(n))\n",
    "    test_idx = np.array(random.sample(idx, k))\n",
    "    \n",
    "    train = data.iloc[~test_idx,:]\n",
    "    test = data.iloc[test_idx,:]\n",
    "    \n",
    "    X_train = train.drop(target, axis=1).to_numpy()\n",
    "    X_test = test.drop(target, axis=1).to_numpy()\n",
    "    \n",
    "    y_train = train[target].to_numpy()\n",
    "    y_train.shape = (y_train.shape[0],1)\n",
    "\n",
    "    y_test = test[target].to_numpy()\n",
    "    y_test.shape = (y_test.shape[0],1)\n",
    "    \n",
    "    return X_train, X_test, y_train, y_test"
   ]
  },
  {
   "cell_type": "code",
   "execution_count": 3,
   "id": "190564ed",
   "metadata": {},
   "outputs": [],
   "source": [
    "def add_ones(X):\n",
    "    return np.concatenate((np.ones(shape=(X.shape[0],1)), X), axis=1)"
   ]
  },
  {
   "cell_type": "code",
   "execution_count": 4,
   "id": "12ccfe17",
   "metadata": {},
   "outputs": [],
   "source": [
    "def predict(X, b):\n",
    "    return X @ b"
   ]
  },
  {
   "cell_type": "code",
   "execution_count": 5,
   "id": "ca5b88e0",
   "metadata": {},
   "outputs": [],
   "source": [
    "def RMSE(y, y_hat):\n",
    "    d = y - y_hat\n",
    "    return float(np.sqrt((d.T @ d) / y.shape[0]))"
   ]
  },
  {
   "cell_type": "code",
   "execution_count": 6,
   "id": "b024233a",
   "metadata": {},
   "outputs": [],
   "source": [
    "def fit_regressor(X, y, b, lr, epochs, l1_penalty=0, l2_penalty=0):\n",
    "    \n",
    "    b_log, errors = [], []\n",
    "    n = X.shape[0]\n",
    "    \n",
    "    for epoch in range(epochs):\n",
    "\n",
    "        y_hat = predict(X, b)\n",
    "        \n",
    "        b_l1 = np.sign(b)\n",
    "        b_l2 = np.concatenate((np.array([[0]]), b[1:]), axis=0)\n",
    "        # According to the need the following line calculates the gredient considering\n",
    "        # the l1, l2, and l1-l2 penalties for Lasso, Ridge and ElasticNet regressors, respectively.\n",
    "        db = ( - ( 2 * X.T @ (y - y_hat) ) + (l1_penalty * b_l1) + ( 2 * l2_penalty * b_l2 ) )  / n\n",
    "        b = b - lr*db\n",
    "        \n",
    "        error = RMSE(y, y_hat)\n",
    "\n",
    "        b_log.append(b)\n",
    "        errors.append(error) \n",
    "    \n",
    "    return b_log, errors"
   ]
  },
  {
   "cell_type": "code",
   "execution_count": 7,
   "id": "3f24ab02",
   "metadata": {},
   "outputs": [],
   "source": [
    "data = pd.read_csv('https://raw.githubusercontent.com/jbrownlee/Datasets/master/housing.csv', header=None)\n",
    "data.columns = ['x'+str(i) for i in range(1,14)] + ['y']\n",
    "\n",
    "X_train, X_test, y_train, y_test = TrainTestSplit(data, target='y', test_size=.2)\n",
    "X_train = add_ones(X_train)\n",
    "X_test = add_ones(X_test)\n",
    "\n",
    "b_init = np.random.randn(X_train.shape[1]).reshape(X_train.shape[1],1)"
   ]
  },
  {
   "cell_type": "code",
   "execution_count": 8,
   "id": "ed8094c1",
   "metadata": {},
   "outputs": [],
   "source": [
    "b_log, errors = fit_regressor(X_train, y_train, b_init, lr=1e-6, epochs=500, l1_penalty=.5, l2_penalty=1.0)"
   ]
  },
  {
   "cell_type": "code",
   "execution_count": 9,
   "id": "6cafd2f9",
   "metadata": {},
   "outputs": [
    {
     "data": {
      "image/png": "[encoded data removed]",
      "text/plain": [
       "<Figure size 640x480 with 1 Axes>"
      ]
     },
     "metadata": {},
     "output_type": "display_data"
    }
   ],
   "source": [
    "plt.plot(errors)\n",
    "plt.title('Training RMSE using Gredient Descent')\n",
    "plt.xlabel('Iteration')\n",
    "plt.ylabel('Error')\n",
    "plt.show()"
   ]
  },
  {
   "cell_type": "code",
   "execution_count": 10,
   "id": "3c12bc94",
   "metadata": {},
   "outputs": [
    {
     "name": "stdout",
     "output_type": "stream",
     "text": [
      "Training Mean Squared Errorusing Gredient Descent:\t 12.45\n",
      "Test Mean Squared Errorusing Gredient Descent:\t\t 16.32\n"
     ]
    }
   ],
   "source": [
    "y_hat = predict(X_test, b=b_log[-1])\n",
    "rmse = RMSE(y_test, y_hat)\n",
    "print ('Training Mean Squared Errorusing Gredient Descent:\\t %.2f'%errors[-1])\n",
    "print ('Test Mean Squared Errorusing Gredient Descent:\\t\\t %.2f'%rmse)"
   ]
  }
 ],
 "metadata": {
  "kernelspec": {
   "display_name": "Python 3 (ipykernel)",
   "language": "python",
   "name": "python3"
  },
  "language_info": {
   "codemirror_mode": {
    "name": "ipython",
    "version": 3
   },
   "file_extension": ".py",
   "mimetype": "text/x-python",
   "name": "python",
   "nbconvert_exporter": "python",
   "pygments_lexer": "ipython3",
   "version": "3.9.13"
  }
 },
 "nbformat": 4,
 "nbformat_minor": 5
}
